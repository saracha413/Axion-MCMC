{
 "cells": [
  {
   "cell_type": "code",
   "execution_count": 6,
   "id": "613661be",
   "metadata": {},
   "outputs": [],
   "source": [
    "#force MCMC to skip step when it gets stuck \n",
    "\n",
    "\n",
    "from mcmc import *\n",
    "from utilities import *\n",
    "import matplotlib\n",
    "import signal\n",
    "from multiprocessing import Process, TimeoutError\n",
    "from classy import Class\n",
    "from mcmc import *\n",
    "\n",
    "\n",
    "\n",
    "#instructions for user-defined exceptions from here https://www.programiz.com/python-programming/user-defined-exception\n",
    "class Error(Exception):\n",
    "\t\"\"\"Base class for other exceptions\"\"\"\n",
    "\tpass\n",
    "\n",
    "class ParamValueError(Error):\n",
    "\t\"\"\"Raised when strange parameter values prevent AxiCLASS from convering in reasonable time\"\"\"\n",
    "\tpass\n",
    "\n",
    "\n",
    "\n",
    "\n",
    "#borrowed from https://stackoverflow.com/questions/492519/timeout-on-a-function-call\n",
    "def handler(signum, frame):\n",
    "\traise ParamValueError\n",
    "\n",
    "def run_loop(pars):\n",
    "\tmodel_pars = pars['model_pars']\n",
    "\tl_min = pars['l_min']\n",
    "\tl_max = pars['l_max']\n",
    "\n",
    "\t\n",
    "\tfor i in range(10):\n",
    "\n",
    "\t\tsignal.signal(signal.SIGALRM, handler)\n",
    "\t\tsignal.alarm(20)\n",
    "\t\ttry:\n",
    "\t\t\tnew_pars = model_pars\n",
    "\t\t\tnew_pars['log10_axion_ac'] = np.random.normal(float(model_pars['log10_axion_ac']), abs(float(model_pars['log10_axion_ac'])*0.2))\n",
    "\t\t\tls, Cls, Dls = get_power(new_pars, l_min, l_max)\n",
    "\t\texcept ParamValueError:\n",
    "\t\t\tprint('This step took too long! Skipping to next entry.')"
   ]
  },
  {
   "cell_type": "code",
   "execution_count": 7,
   "id": "02811afe",
   "metadata": {},
   "outputs": [],
   "source": [
    "import numpy as np\n",
    "import numpy.random as rd\n",
    "import scipy.stats as st\n",
    "import copy, time, os\n",
    "from datetime import datetime as dt\n",
    "\n",
    "from multiprocessing import Pool\n",
    "\n",
    "%matplotlib inline\n",
    "import matplotlib.pyplot as plt\n",
    "\n",
    "import functools"
   ]
  },
  {
   "cell_type": "code",
   "execution_count": null,
   "id": "d1748544",
   "metadata": {},
   "outputs": [],
   "source": []
  },
  {
   "cell_type": "code",
   "execution_count": 11,
   "id": "cb449f9a",
   "metadata": {},
   "outputs": [],
   "source": [
    "l_min = 90\n",
    "l_max = 2000\n",
    "num_steps = 100\n",
    "num_chains = 5\n",
    "num_burn_in = 0\n",
    "\n",
    "name = 'Sept-20_runs'\n",
    "n_axion = 3\n",
    "\n",
    "model_pars = read_ini_file('example_axiCLASS.ini', loc='/Users/saravannah/Axion-MCMC/axion_MCMC/')\n",
    "model_pars['n_axion'] = n_axion\n",
    "\n",
    "params = {'num_burn_in': num_burn_in, \n",
    "          'l_min':  l_min, 'l_max': l_max, 'model_pars':model_pars }"
   ]
  },
  {
   "cell_type": "code",
   "execution_count": 9,
   "id": "351f04bb",
   "metadata": {},
   "outputs": [],
   "source": [
    "pars_list = [params for i in range(num_chains)]\n",
    "\n",
    "#saving param values for less typing\n",
    "og_log10_axion_ac = float(params['model_pars']['log10_axion_ac'])\n",
    "og_log10_fraction_axion_ac = float(params['model_pars']['log10_fraction_axion_ac'])\n",
    "og_omega_cdm = float(params['model_pars']['omega_cdm'])\n",
    "og_H0 = float(params['model_pars']['H0'])\n",
    "\n",
    "\n",
    "for i in range(num_chains):\n",
    "\n",
    "    pars_list[i]['log10_axion_ac'] = np.random.normal(og_log10_axion_ac, abs(og_log10_axion_ac*0.05))\n",
    "    pars_list[i]['log10_fraction_axion_ac'] = np.random.normal(og_log10_fraction_axion_ac, abs(og_log10_fraction_axion_ac*0.05))\n",
    "    pars_list[i]['omega_cdm'] = np.random.normal(og_omega_cdm, abs(og_omega_cdm*0.05))\n",
    "    pars_list[i]['H0'] = np.random.normal(og_H0, abs(og_H0*0.05))\n",
    "\n",
    "    pars_list[i]['name'] = name+'#'+str(i)"
   ]
  },
  {
   "cell_type": "code",
   "execution_count": 10,
   "id": "41682396",
   "metadata": {},
   "outputs": [
    {
     "name": "stdout",
     "output_type": "stream",
     "text": [
      "Making  100  samples per chain for  5  chains. Burn-in rate:  0.0\n"
     ]
    },
    {
     "ename": "NameError",
     "evalue": "name 'n_axion' is not defined",
     "output_type": "error",
     "traceback": [
      "\u001b[0;31m---------------------------------------------------------------------------\u001b[0m",
      "\u001b[0;31mRemoteTraceback\u001b[0m                           Traceback (most recent call last)",
      "\u001b[0;31mRemoteTraceback\u001b[0m: \n\"\"\"\nTraceback (most recent call last):\n  File \"/opt/anaconda3/envs/axiclasspy/lib/python3.9/multiprocessing/pool.py\", line 125, in worker\n    result = (True, func(*args, **kwds))\n  File \"/opt/anaconda3/envs/axiclasspy/lib/python3.9/multiprocessing/pool.py\", line 48, in mapstar\n    return list(map(*args))\n  File \"/Users/saravannah/Axion-MCMC/axion_MCMC/mcmc.py\", line 62, in mcmc\n    model_pars['n_axion'] = n_axion\nNameError: name 'n_axion' is not defined\n\"\"\"",
      "\nThe above exception was the direct cause of the following exception:\n",
      "\u001b[0;31mNameError\u001b[0m                                 Traceback (most recent call last)",
      "\u001b[0;32m<ipython-input-10-c6be8bca7f37>\u001b[0m in \u001b[0;36m<module>\u001b[0;34m\u001b[0m\n\u001b[1;32m      3\u001b[0m \u001b[0mn_trials_per_process\u001b[0m \u001b[0;34m=\u001b[0m \u001b[0;34m[\u001b[0m\u001b[0mnum_steps\u001b[0m\u001b[0;34m]\u001b[0m \u001b[0;34m*\u001b[0m \u001b[0mnum_chains\u001b[0m\u001b[0;34m\u001b[0m\u001b[0;34m\u001b[0m\u001b[0m\n\u001b[1;32m      4\u001b[0m \u001b[0mstart\u001b[0m \u001b[0;34m=\u001b[0m \u001b[0mtime\u001b[0m\u001b[0;34m.\u001b[0m\u001b[0mtime\u001b[0m\u001b[0;34m(\u001b[0m\u001b[0;34m)\u001b[0m\u001b[0;34m\u001b[0m\u001b[0;34m\u001b[0m\u001b[0m\n\u001b[0;32m----> 5\u001b[0;31m \u001b[0mtotal_sampling_result\u001b[0m \u001b[0;34m=\u001b[0m \u001b[0mpool\u001b[0m\u001b[0;34m.\u001b[0m\u001b[0mmap\u001b[0m\u001b[0;34m(\u001b[0m\u001b[0mfunctools\u001b[0m\u001b[0;34m.\u001b[0m\u001b[0mpartial\u001b[0m\u001b[0;34m(\u001b[0m\u001b[0mmcmc\u001b[0m\u001b[0;34m,\u001b[0m \u001b[0mparams\u001b[0m\u001b[0;34m)\u001b[0m\u001b[0;34m,\u001b[0m \u001b[0mn_trials_per_process\u001b[0m\u001b[0;34m)\u001b[0m\u001b[0;34m\u001b[0m\u001b[0;34m\u001b[0m\u001b[0m\n\u001b[0m\u001b[1;32m      6\u001b[0m \u001b[0mend\u001b[0m \u001b[0;34m=\u001b[0m \u001b[0mtime\u001b[0m\u001b[0;34m.\u001b[0m\u001b[0mtime\u001b[0m\u001b[0;34m(\u001b[0m\u001b[0;34m)\u001b[0m\u001b[0;34m\u001b[0m\u001b[0;34m\u001b[0m\u001b[0m\n\u001b[1;32m      7\u001b[0m \u001b[0mprint\u001b[0m\u001b[0;34m(\u001b[0m\u001b[0;34m'total exec time: '\u001b[0m\u001b[0;34m,\u001b[0m \u001b[0mend\u001b[0m\u001b[0;34m-\u001b[0m\u001b[0mstart\u001b[0m\u001b[0;34m)\u001b[0m\u001b[0;34m\u001b[0m\u001b[0;34m\u001b[0m\u001b[0m\n",
      "\u001b[0;32m/opt/anaconda3/envs/axiclasspy/lib/python3.9/multiprocessing/pool.py\u001b[0m in \u001b[0;36mmap\u001b[0;34m(self, func, iterable, chunksize)\u001b[0m\n\u001b[1;32m    362\u001b[0m         \u001b[0;32min\u001b[0m \u001b[0ma\u001b[0m \u001b[0mlist\u001b[0m \u001b[0mthat\u001b[0m \u001b[0;32mis\u001b[0m \u001b[0mreturned\u001b[0m\u001b[0;34m.\u001b[0m\u001b[0;34m\u001b[0m\u001b[0;34m\u001b[0m\u001b[0m\n\u001b[1;32m    363\u001b[0m         '''\n\u001b[0;32m--> 364\u001b[0;31m         \u001b[0;32mreturn\u001b[0m \u001b[0mself\u001b[0m\u001b[0;34m.\u001b[0m\u001b[0m_map_async\u001b[0m\u001b[0;34m(\u001b[0m\u001b[0mfunc\u001b[0m\u001b[0;34m,\u001b[0m \u001b[0miterable\u001b[0m\u001b[0;34m,\u001b[0m \u001b[0mmapstar\u001b[0m\u001b[0;34m,\u001b[0m \u001b[0mchunksize\u001b[0m\u001b[0;34m)\u001b[0m\u001b[0;34m.\u001b[0m\u001b[0mget\u001b[0m\u001b[0;34m(\u001b[0m\u001b[0;34m)\u001b[0m\u001b[0;34m\u001b[0m\u001b[0;34m\u001b[0m\u001b[0m\n\u001b[0m\u001b[1;32m    365\u001b[0m \u001b[0;34m\u001b[0m\u001b[0m\n\u001b[1;32m    366\u001b[0m     \u001b[0;32mdef\u001b[0m \u001b[0mstarmap\u001b[0m\u001b[0;34m(\u001b[0m\u001b[0mself\u001b[0m\u001b[0;34m,\u001b[0m \u001b[0mfunc\u001b[0m\u001b[0;34m,\u001b[0m \u001b[0miterable\u001b[0m\u001b[0;34m,\u001b[0m \u001b[0mchunksize\u001b[0m\u001b[0;34m=\u001b[0m\u001b[0;32mNone\u001b[0m\u001b[0;34m)\u001b[0m\u001b[0;34m:\u001b[0m\u001b[0;34m\u001b[0m\u001b[0;34m\u001b[0m\u001b[0m\n",
      "\u001b[0;32m/opt/anaconda3/envs/axiclasspy/lib/python3.9/multiprocessing/pool.py\u001b[0m in \u001b[0;36mget\u001b[0;34m(self, timeout)\u001b[0m\n\u001b[1;32m    769\u001b[0m             \u001b[0;32mreturn\u001b[0m \u001b[0mself\u001b[0m\u001b[0;34m.\u001b[0m\u001b[0m_value\u001b[0m\u001b[0;34m\u001b[0m\u001b[0;34m\u001b[0m\u001b[0m\n\u001b[1;32m    770\u001b[0m         \u001b[0;32melse\u001b[0m\u001b[0;34m:\u001b[0m\u001b[0;34m\u001b[0m\u001b[0;34m\u001b[0m\u001b[0m\n\u001b[0;32m--> 771\u001b[0;31m             \u001b[0;32mraise\u001b[0m \u001b[0mself\u001b[0m\u001b[0;34m.\u001b[0m\u001b[0m_value\u001b[0m\u001b[0;34m\u001b[0m\u001b[0;34m\u001b[0m\u001b[0m\n\u001b[0m\u001b[1;32m    772\u001b[0m \u001b[0;34m\u001b[0m\u001b[0m\n\u001b[1;32m    773\u001b[0m     \u001b[0;32mdef\u001b[0m \u001b[0m_set\u001b[0m\u001b[0;34m(\u001b[0m\u001b[0mself\u001b[0m\u001b[0;34m,\u001b[0m \u001b[0mi\u001b[0m\u001b[0;34m,\u001b[0m \u001b[0mobj\u001b[0m\u001b[0;34m)\u001b[0m\u001b[0;34m:\u001b[0m\u001b[0;34m\u001b[0m\u001b[0;34m\u001b[0m\u001b[0m\n",
      "\u001b[0;31mNameError\u001b[0m: name 'n_axion' is not defined"
     ]
    }
   ],
   "source": [
    "\n",
    "\n",
    "print('Making ', num_steps, ' samples per chain for ',  num_chains, ' chains. Burn-in rate: ', num_burn_in/num_steps)\n",
    "pool = Pool(processes=num_chains)\n",
    "n_trials_per_process = [num_steps] * num_chains\n",
    "start = time.time()\n",
    "total_sampling_result = pool.map(functools.partial(mcmc, params), n_trials_per_process)\n",
    "end = time.time()\n",
    "print('total exec time: ', end-start)"
   ]
  },
  {
   "cell_type": "code",
   "execution_count": null,
   "id": "92b65409",
   "metadata": {},
   "outputs": [],
   "source": [
    "print(total_sampling_result)"
   ]
  },
  {
   "cell_type": "code",
   "execution_count": null,
   "id": "4914cb76",
   "metadata": {},
   "outputs": [],
   "source": []
  },
  {
   "cell_type": "code",
   "execution_count": null,
   "id": "616f8a2b",
   "metadata": {},
   "outputs": [],
   "source": []
  }
 ],
 "metadata": {
  "kernelspec": {
   "display_name": "Python 3",
   "language": "python",
   "name": "python3"
  },
  "language_info": {
   "codemirror_mode": {
    "name": "ipython",
    "version": 3
   },
   "file_extension": ".py",
   "mimetype": "text/x-python",
   "name": "python",
   "nbconvert_exporter": "python",
   "pygments_lexer": "ipython3",
   "version": "3.9.2"
  }
 },
 "nbformat": 4,
 "nbformat_minor": 5
}
