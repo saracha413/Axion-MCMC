{
 "cells": [
  {
   "cell_type": "code",
   "execution_count": 11,
   "id": "electronic-sponsorship",
   "metadata": {},
   "outputs": [],
   "source": [
    "###Sara Vannah\n",
    "\n",
    "\n",
    "# import necessary modules\n",
    "# uncomment to get plots displayed in notebook\n",
    "import sys, platform, os\n",
    "import matplotlib\n",
    "from matplotlib import pyplot as plt\n",
    "import numpy as np\n",
    "import scipy as sp\n",
    "from scipy.interpolate import griddata\n",
    "%matplotlib inline\n",
    "from mpl_toolkits.mplot3d import Axes3D\n",
    "import matplotlib.colors as colors\n",
    "from matplotlib import cm"
   ]
  },
  {
   "cell_type": "code",
   "execution_count": 12,
   "id": "radical-glass",
   "metadata": {},
   "outputs": [],
   "source": [
    "#plotting run of MOD_pheno_axion_transition_tests.ini varying log_ac and frac_fld\n",
    "\n",
    "log_ac_vals, frac_fld_vals, JSD_vals = np.loadtxt('/Users/saravannah/Axion-MCMC/axion_MCMC/PHENO_vary_ac_and_frac_fld.txt', unpack=True)\n",
    "\n",
    "#fig = plt.figure()\n",
    "#ax = fig.gca(projection='3d')\n",
    "\n",
    "#ax.scatter(log_ac_vals, frac_fld_vals, JSD_vals, c=JSD_vals, cmap=cm.jet)\n",
    "\n",
    "#ax.set_xlim3d(-2, 0)\n",
    "#ax.set_ylim3d(-2,2)\n",
    "#ax.set_zlim3d(5e-4,2e-3)"
   ]
  },
  {
   "cell_type": "code",
   "execution_count": 13,
   "id": "increased-threshold",
   "metadata": {},
   "outputs": [],
   "source": [
    "##borrowed this from first paper analysis - MCMC_error_bars.ipynb\n",
    "\n",
    "#data manipulation to decrease number of points\n",
    "#fewer points = less computationally intensive interpolation\n",
    "\n",
    "#distance between two points\n",
    "def dist(x1,y1,z1, x2, y2, z2):\n",
    "    return np.sqrt((x1-x2)**2+(y1-y2)**2+(z1-z2)**2)\n",
    "#arrays for X, Y, Z (w0, wa, JSD), and int minimum distance between points\n",
    "def reduc_arr(X_arr, Y_arr, Z_arr, min_dist):\n",
    "    pbar = tqdm(total=len(X_arr))\n",
    "    #abbreviated arrays of points\n",
    "    X_new = [X_arr[1]]\n",
    "    Y_new = [Y_arr[1]]\n",
    "    Z_new = [Z_arr[1]]\n",
    "    for i in range(len(X_arr)): \n",
    "        point_nearby = False\n",
    "        for j in range(len(X_new)):\n",
    "            #check if there's another point nearby\n",
    "            if dist(X_arr[i], Y_arr[i], Z_arr[i], X_new[j], Y_new[j], Z_new[j]) < min_dist:\n",
    "                point_nearby = True  \n",
    "        #also removing the absurd wa tail\n",
    "        if not point_nearby and Y_arr[i] > -1.0:# and Z_arr[i] < 1e-2:\n",
    "            #no point already saved nearby, so save the point\n",
    "            X_new.append(X_arr[i])\n",
    "            Y_new.append(Y_arr[i])\n",
    "            Z_new.append(Z_arr[i])\n",
    "        pbar.update(1)\n",
    "    return X_new, Y_new, Z_new"
   ]
  },
  {
   "cell_type": "code",
   "execution_count": 107,
   "id": "social-nylon",
   "metadata": {},
   "outputs": [
    {
     "name": "stdout",
     "output_type": "stream",
     "text": [
      "Using matplotlib backend: MacOSX\n"
     ]
    }
   ],
   "source": [
    "def contour_plot(x, y, z, title=None):\n",
    "    \n",
    "    matplotlib.rcParams['text.usetex'] = True\n",
    "    \n",
    "    dif_x, dif_y = max(x)-min(x), max(y)-min(y)\n",
    "    \n",
    "    #grid_x, grid_y = np.mgrid[min(x):max(x):20j, min(y):max(y):20j]\n",
    "    grid_x, grid_y = np.mgrid[min(x)+.2*dif_x:max(x)-.2*dif_x:100j, min(y)+.4*dif_y:max(y)-.4*dif_y:100j]\n",
    "    grid_z = griddata((x, y), z, (grid_x, grid_y), method='cubic')\n",
    "    \n",
    "    #print(grid_z)\n",
    "    \n",
    "    fig = plt.figure(figsize=(10,10))\n",
    "    #plt.tight_layout()\n",
    "    ax = fig.add_subplot(projection='3d')\n",
    "    \n",
    "    ax.plot_surface(grid_x, grid_y, grid_z, cmap=cm.jet)\n",
    "\n",
    "    ax.set_xlabel(r'log$_{10}$(a$_c$)', fontsize=18)\n",
    "    ax.set_ylabel(r'f$_{EDE}$', fontsize=18)\n",
    "    ax.set_zlabel(r'D$_{JS}$', fontsize=18)\n",
    "    \n",
    "    \n",
    "    \n",
    "    #xlabels = np.around(np.linspace(min(x), max(x), num=5), 2)\n",
    "    #ylabels = np.around(np.linspace(min(y), max(y), num=5), 2)\n",
    "    #zlabels = np.around(np.linspace(min(z), max(z), num=5), 2)\n",
    "    \n",
    "    #ax.set_xticklabels(xlabels, fontsize=10)\n",
    "    #ax.set_yticklabels(ylabels, fontsize=10)\n",
    "    #ax.set_zticklabels(zlabels, fontsize=10)\n",
    "    \n",
    "    #ax.tick_params(axis='x', labelsize=10)\n",
    "    #ax.tick_params(axis='y', labelsize=10)\n",
    "    #ax.tick_params(axis='z', labelsize=10)\n",
    "    \n",
    "    \n",
    "    ax.xaxis.set_major_locator(plt.MaxNLocator(5))\n",
    "    ax.yaxis.set_major_locator(plt.MaxNLocator(5))\n",
    "    ax.zaxis.set_major_locator(plt.MaxNLocator(5))\n",
    "    \n",
    "    ax.dist = 11\n",
    "    #if title is not None:\n",
    "    #    ax.set_title(title)\n",
    "    \n",
    "%matplotlib    \n",
    "#this should be a pretty contour using the cubic method but I need more points   \n",
    "contour_plot(log_ac_vals, frac_fld_vals, JSD_vals, title='n_axion=inf?')"
   ]
  },
  {
   "cell_type": "code",
   "execution_count": 108,
   "id": "cubic-villa",
   "metadata": {},
   "outputs": [],
   "source": [
    "log_ac_vals_3, frac_fld_vals_3, JSD_vals_3 = np.loadtxt('/Users/saravannah/Axion-MCMC/axion_MCMC/vary_ac_and_frac_ac_naxion=3.txt', unpack=True)\n",
    "log_ac_vals_2, frac_fld_vals_2, JSD_vals_2 = np.loadtxt('/Users/saravannah/Axion-MCMC/axion_MCMC/vary_ac_and_frac_ac_naxion=2.txt', unpack=True)"
   ]
  },
  {
   "cell_type": "code",
   "execution_count": 109,
   "id": "earned-humanitarian",
   "metadata": {
    "scrolled": true
   },
   "outputs": [],
   "source": [
    "contour_plot(log_ac_vals_3, frac_fld_vals_3, JSD_vals_3, title='n_axion=3')"
   ]
  },
  {
   "cell_type": "code",
   "execution_count": 81,
   "id": "cellular-latino",
   "metadata": {},
   "outputs": [
    {
     "name": "stderr",
     "output_type": "stream",
     "text": [
      "<ipython-input-78-014e5a7159ed>:15: MatplotlibDeprecationWarning: Calling gca() with keyword arguments was deprecated in Matplotlib 3.4. Starting two minor releases later, gca() will take no keyword arguments. The gca() function should only be used to get the current axes, or if no axes exist, create new axes with default keyword arguments. To create a new axes with non-default arguments, use plt.axes() or plt.subplot().\n",
      "  ax = fig.gca(projection='3d')\n",
      "<ipython-input-78-014e5a7159ed>:28: UserWarning: FixedFormatter should only be used together with FixedLocator\n",
      "  ax.set_xticklabels(xlabels, fontsize=10)\n",
      "<ipython-input-78-014e5a7159ed>:29: UserWarning: FixedFormatter should only be used together with FixedLocator\n",
      "  ax.set_yticklabels(ylabels, fontsize=10)\n",
      "<ipython-input-78-014e5a7159ed>:30: UserWarning: FixedFormatter should only be used together with FixedLocator\n",
      "  ax.set_zticklabels(zlabels, fontsize=10)\n"
     ]
    }
   ],
   "source": [
    "contour_plot(log_ac_vals_2, frac_fld_vals_2, JSD_vals_2, title='n_axion=2')"
   ]
  },
  {
   "cell_type": "code",
   "execution_count": 82,
   "id": "stable-defense",
   "metadata": {},
   "outputs": [
    {
     "name": "stdout",
     "output_type": "stream",
     "text": [
      "3\n"
     ]
    }
   ],
   "source": [
    "print(max([-5,3,-2,0]))"
   ]
  },
  {
   "cell_type": "code",
   "execution_count": 32,
   "id": "formal-thought",
   "metadata": {},
   "outputs": [],
   "source": [
    "#Bubble sorting algortihm from https://realpython.com/sorting-algorithms-python/#the-bubble-sort-algorithm-in-python\n",
    "\n",
    "def reorganize(log_ac_vals, JSD_vals):\n",
    "    new_log_ac_vals, new_JSD_vals = log_ac_vals, JSD_vals\n",
    "    n = len(log_ac_vals)\n",
    "    \n",
    "    for i in range(n):\n",
    "        already_sorted = True\n",
    "        \n",
    "        for j in range(n-i-1):\n",
    "            if new_log_ac_vals[j] > new_log_ac_vals[j+1]:\n",
    "                new_log_ac_vals[j], new_log_ac_vals[j+1] = new_log_ac_vals[j+1], new_log_ac_vals[j]\n",
    "                new_JSD_vals[j], new_JSD_vals[j+1] = new_JSD_vals[j+1], new_JSD_vals[j]\n",
    "                \n",
    "                already_sorted = False\n",
    "                \n",
    "        if already_sorted:\n",
    "            break\n",
    "            \n",
    "    return new_log_ac_vals, new_JSD_vals\n",
    "        "
   ]
  },
  {
   "cell_type": "code",
   "execution_count": 33,
   "id": "recent-tobago",
   "metadata": {},
   "outputs": [
    {
     "data": {
      "text/plain": [
       "<matplotlib.legend.Legend at 0x7fd9114f1af0>"
      ]
     },
     "execution_count": 33,
     "metadata": {},
     "output_type": "execute_result"
    },
    {
     "data": {
      "image/png": "[encoded data removed]",
      "text/plain": [
       "<Figure size 432x288 with 1 Axes>"
      ]
     },
     "metadata": {
      "needs_background": "light"
     },
     "output_type": "display_data"
    }
   ],
   "source": [
    "#plotting runs of example_axiCLASS.ini varying log10_ac for different values of n_axion\n",
    "\n",
    "log_ac_n2, JSD_n2 = np.loadtxt('vary_ac_naxion=2.txt', unpack=True)\n",
    "log_ac_n3, JSD_n3 = np.loadtxt('vary_ac_naxion=3.txt', unpack=True)\n",
    "log_ac_n10, JSD_n10 = np.loadtxt('vary_ac_naxion=10.txt', unpack=True)\n",
    "\n",
    "log_ac_n2, JSD_n2 = reorganize(log_ac_n2, JSD_n2)\n",
    "log_ac_n3, JSD_n3 = reorganize(log_ac_n3, JSD_n3)\n",
    "log_ac_n10, JSD_n10 = reorganize(log_ac_n10, JSD_n10)\n",
    "\n",
    "\n",
    "plt.plot(log_ac_n2, JSD_n2, label='n=2')\n",
    "plt.plot(log_ac_n3, JSD_n3, label='n=3')\n",
    "plt.plot(log_ac_n10, JSD_n10, label='n=10')\n",
    "plt.xlabel('log10_ac')\n",
    "plt.ylabel('JSD')\n",
    "\n",
    "plt.ylim([0.0005,0.0025])\n",
    "#plt.xlim([-3.2,-2.9])\n",
    "plt.legend()\n",
    "\n",
    "#plt.savefig('JSD_vs_log10_ac.pdf')"
   ]
  },
  {
   "cell_type": "code",
   "execution_count": 27,
   "id": "referenced-vaccine",
   "metadata": {},
   "outputs": [
    {
     "data": {
      "image/png": "[encoded data removed]",
      "text/plain": [
       "<Figure size 432x288 with 1 Axes>"
      ]
     },
     "metadata": {
      "needs_background": "light"
     },
     "output_type": "display_data"
    }
   ],
   "source": [
    "plt.scatter(log_ac_n2, JSD_n2)\n",
    "plt.xlabel('log10_ac')\n",
    "plt.ylabel('JSD')\n",
    "#plt.savefig('JSD_vs_log10_ac_n=2.pdf')"
   ]
  },
  {
   "cell_type": "code",
   "execution_count": null,
   "id": "mathematical-homeless",
   "metadata": {},
   "outputs": [],
   "source": []
  }
 ],
 "metadata": {
  "kernelspec": {
   "display_name": "Python 3",
   "language": "python",
   "name": "python3"
  },
  "language_info": {
   "codemirror_mode": {
    "name": "ipython",
    "version": 3
   },
   "file_extension": ".py",
   "mimetype": "text/x-python",
   "name": "python",
   "nbconvert_exporter": "python",
   "pygments_lexer": "ipython3",
   "version": "3.9.2"
  }
 },
 "nbformat": 4,
 "nbformat_minor": 5
}
