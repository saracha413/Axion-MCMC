{
 "cells": [
  {
   "cell_type": "code",
   "execution_count": 1,
   "id": "08592ee1",
   "metadata": {},
   "outputs": [],
   "source": [
    "#just making sure the .ini file Poulin sent runs in AxiCLASS\n",
    "#no MCMC\n",
    "%matplotlib inline\n",
    "import matplotlib\n",
    "import matplotlib.pyplot as plt\n",
    "import numpy as np\n",
    "from classy import Class"
   ]
  },
  {
   "cell_type": "code",
   "execution_count": 7,
   "id": "fd158093",
   "metadata": {},
   "outputs": [],
   "source": [
    "##This is from AxiCLASS\n",
    "def is_number(s):\n",
    "# ---------------------------------- This func checks whether a thing is a number. Found online\n",
    "    try:\n",
    "        float(s)\n",
    "    except ValueError:\n",
    "        pass\n",
    "\n",
    "    try:\n",
    "        import unicodedata\n",
    "        unicodedata.numeric(s)\n",
    "        return True\n",
    "    except (TypeError, ValueError):\n",
    "        pass\n",
    "\n",
    "    return False\n",
    "\n",
    "#function for ignoring comments in ini files\n",
    "def ignore_comment(line):\n",
    "    if '#' in line:\n",
    "        #save all elements up to the #\n",
    "        line = line[:line.find('#')]\n",
    "    if '*' in line:\n",
    "        line = ''\n",
    "\n",
    "    return line\n",
    "\n",
    "\n",
    "\n",
    "##This is from AxiCLASS\n",
    "\n",
    "def read_ini_file(inifile, loc = ''):\n",
    "\n",
    "# Function to read ini file and save it in a dictionary that can be passed to classy\n",
    "# Takes the required argument inifile = filename with extension\n",
    "# Takes the optional argument loc = location of your ini file, ending in a '/'\n",
    "# Returns dictionary of everything contained in your ini file\n",
    "# \n",
    "    inivals = {}\n",
    "\n",
    "    with open(loc + inifile) as f: # opening initialisation file as f\n",
    "        content = f.readlines() # reading the initialisation file and turning it into a list\n",
    "\n",
    "    q = {} # initialise q as an empty dictionary\n",
    "    for s in content: # iterates over lines in .ini file and saves information, turning numbers into floats from strings\n",
    "        #SV --- added this skip over commented sections\n",
    "        s = ignore_comment(s)\n",
    "        if s != '':\n",
    "            if is_number(s[s.find('=')+2:]):\n",
    "                q[s[:s.find(' =')]] = float(s[s.find('=')+2:])\n",
    "            else:\n",
    "                q[s[:s.find(' =')]] = s[s.find('=')+2:-1]\n",
    "\n",
    "    q.pop('')\n",
    "    return q # inivals dict has dict of initial values at key given by 'original'\n",
    "\n",
    "\n"
   ]
  },
  {
   "cell_type": "code",
   "execution_count": 8,
   "id": "1e8a97f8",
   "metadata": {},
   "outputs": [],
   "source": [
    "#get power spectrum from CLASS for a given parameter set\n",
    "#currently set to TT only\n",
    "#modified from https://github.com/lesgourg/class_public/wiki/Python-wrapper\n",
    "def get_power(params):\n",
    "    \n",
    "    l_max = 2000 \n",
    "    \n",
    "    #create an instance of CLASS wrapper w/correct params\n",
    "    cosmo = Class()\n",
    "    cosmo.set(params)\n",
    "    #cosmo.set({'output':'tCl,pCl,lCl,mPk','lensing':'yes','P_k_max_1/Mpc':3.0})\n",
    "    \n",
    "    cosmo.compute()\n",
    "    \n",
    "    #lensed cl until l=l_max\n",
    "    output = cosmo.lensed_cl(l_max)\n",
    "    #CHECK THAT THIS IS INDEXED CORRECTLY --- NEED TO CHECK CLASS DOCUMENTATION ON OUTPUT OF LENSED_CL\n",
    "    ls = output['ell'][2:]\n",
    "    Cls = output['tt'][2:]\n",
    "    \n",
    "    \n",
    "    #ls = np.arange(l_max+1)\n",
    "    Dls = ls*(ls+1)*Cls/(2*np.pi)\n",
    "    \n",
    "    #clean ups\n",
    "    cosmo.struct_cleanup()\n",
    "    cosmo.empty()\n",
    "    \n",
    "    return ls, Cls, Dls"
   ]
  },
  {
   "cell_type": "code",
   "execution_count": 9,
   "id": "6ec3d27b",
   "metadata": {},
   "outputs": [
    {
     "name": "stdout",
     "output_type": "stream",
     "text": [
      "{'root': 'output/sara_test', 'output': 'tCl,lCl,mPk', 'P_k_max_h/Mpc': '1', 'write background': 'yes', 'write parameters': 'yeap', 'omega_b': '0.02251', 'omega_cdm': '0.1320', 'H0': '72.81', 'tau_reio': '0.068', 'A_s': '2.191e-9', 'n_s': '0.9860', 'N_ur': '2.0328', 'N_ncdm': '1', 'deg_ncdm': '1', 'm_ncdm': '0.06', 'T_ncdm': '0.71611', 'scf_potential': 'axion', 'n_axion': '2.6', 'log10_axion_ac': '-3.531', 'log10_fraction_axion_ac': '-0.879426', 'scf_parameters': '2.72,0.0', 'scf_evolve_as_fluid': 'no \\t', 'scf_evolve_like_axionCAMB': 'no', 'do_shooting': ' yes ', 'do_shooting_scf': 'yes', 'scf_has_perturbations': 'yes', 'attractor_ic_scf': 'no ', 'compute_phase_shift': 'no', 'adptative_stepsize': '1000', 'precision_newton_method_F': '1e-3  ', 'precision_newton_method_x': '1e-3 ', 'modes': 's', 'gauge': 'synchronous', 'lensing': 'yes', 'input_verbose': '0', 'background_verbose': '0', 'thermodynamics_verbose': '0', 'perturbations_verbose': '0', 'transfer_verbose': '0', 'primordial_verbose': '0', 'spectra_verbose': '0', 'nonlinear_verbose': '0', 'lensing_verbose': '0', 'output_verbose': '0'}\n"
     ]
    }
   ],
   "source": [
    "input_pars = read_ini_file('example_axiCLASS.ini', loc='/Users/saravannah/Axion-MCMC/axion_MCMC/')\n",
    "\n",
    "print(input_pars)"
   ]
  },
  {
   "cell_type": "code",
   "execution_count": 13,
   "id": "638e5588",
   "metadata": {},
   "outputs": [
    {
     "name": "stdout",
     "output_type": "stream",
     "text": [
      "[   2    3    4 ... 1998 1999 2000]\n"
     ]
    }
   ],
   "source": [
    "#this calculation takes a minute\n",
    "tt_ls, tt_cls, tt_dls = get_power(input_pars)"
   ]
  },
  {
   "cell_type": "code",
   "execution_count": 12,
   "id": "77bff4b3",
   "metadata": {},
   "outputs": [
    {
     "data": {
      "text/plain": [
       "[<matplotlib.lines.Line2D at 0x7fb6f0016b80>]"
      ]
     },
     "execution_count": 12,
     "metadata": {},
     "output_type": "execute_result"
    },
    {
     "data": {
      "image/png": "[encoded data removed]",
      "text/plain": [
       "<Figure size 432x288 with 1 Axes>"
      ]
     },
     "metadata": {
      "needs_background": "light"
     },
     "output_type": "display_data"
    }
   ],
   "source": [
    "plt.plot(tt_ls, tt_dls, )"
   ]
  },
  {
   "cell_type": "code",
   "execution_count": null,
   "id": "fb9c0386",
   "metadata": {},
   "outputs": [],
   "source": []
  }
 ],
 "metadata": {
  "kernelspec": {
   "display_name": "Python 3",
   "language": "python",
   "name": "python3"
  },
  "language_info": {
   "codemirror_mode": {
    "name": "ipython",
    "version": 3
   },
   "file_extension": ".py",
   "mimetype": "text/x-python",
   "name": "python",
   "nbconvert_exporter": "python",
   "pygments_lexer": "ipython3",
   "version": "3.9.2"
  }
 },
 "nbformat": 4,
 "nbformat_minor": 5
}
