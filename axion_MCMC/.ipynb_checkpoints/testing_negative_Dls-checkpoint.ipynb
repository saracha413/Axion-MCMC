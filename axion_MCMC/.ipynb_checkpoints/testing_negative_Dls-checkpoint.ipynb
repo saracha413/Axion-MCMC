{
 "cells": [
  {
   "cell_type": "code",
   "execution_count": 20,
   "id": "5f288249",
   "metadata": {},
   "outputs": [],
   "source": [
    "import numpy as np\n",
    "import matplotlib\n",
    "from matplotlib import pyplot as plt\n",
    "%matplotlib inline\n",
    "\n",
    "import os, os.path\n",
    "\n",
    "from classy import Class"
   ]
  },
  {
   "cell_type": "code",
   "execution_count": 15,
   "id": "e8657d3a",
   "metadata": {},
   "outputs": [],
   "source": [
    "l_min = 90\n",
    "l_max = 2000"
   ]
  },
  {
   "cell_type": "code",
   "execution_count": 76,
   "id": "19c78943",
   "metadata": {},
   "outputs": [
    {
     "name": "stdout",
     "output_type": "stream",
     "text": [
      "90.0 90\n",
      "2000.0 2000\n"
     ]
    }
   ],
   "source": [
    "directory = os.getcwd()\n",
    "fileName = os.path.join(directory,'planck/planck_tt_spectrum_2018.txt')\n",
    "l_data, Dl_data, _, _ = np.loadtxt(fileName, unpack = True)\n",
    "Dl_data = Dl_data[l_min-2:l_max-1]\n",
    "\n",
    "l_data = l_data[l_min-2:l_max-1]\n",
    "\n",
    "print(min(l_data), l_min) \n",
    "print(max(l_data), l_max)"
   ]
  },
  {
   "cell_type": "code",
   "execution_count": 43,
   "id": "15ab08c5",
   "metadata": {},
   "outputs": [],
   "source": [
    "#function for ignoring comments in ini files\n",
    "def ignore_comment(line):\n",
    "    if '#' in line:\n",
    "        #save all elements up to the #\n",
    "        line = line[:line.find('#')]\n",
    "    if '*' in line:\n",
    "        line = ''\n",
    "\n",
    "    return line\n",
    "\n",
    "\n",
    "##This is from AxiCLASS\n",
    "def is_number(s):\n",
    "# ---------------------------------- This func checks whether a thing is a number. Found online\n",
    "    try:\n",
    "        float(s)\n",
    "    except ValueError:\n",
    "        pass\n",
    "\n",
    "    try:\n",
    "        import unicodedata\n",
    "        unicodedata.numeric(s)\n",
    "        return True\n",
    "    except (TypeError, ValueError):\n",
    "        pass\n",
    "\n",
    "    return False\n",
    "\n",
    "def read_ini_file(inifile, loc = ''):\n",
    "# Function to read ini file and save it in a dictionary that can be passed to classy\n",
    "# Takes the required argument inifile = filename with extension\n",
    "# Takes the optional argument loc = location of your ini file, ending in a '/'\n",
    "# Returns dictionary of everything contained in your ini file\n",
    "#\n",
    "    inivals = {}\n",
    "\n",
    "    with open(loc + inifile) as f: # opening initialisation file as f\n",
    "        content = f.readlines() # reading the initialisation file and turning it into a list\n",
    "\n",
    "    q = {} # initialise q as an empty dictionary\n",
    "    for s in content: # iterates over lines in .ini file and saves information, turning numbers into floats from strings\n",
    "        #SV --- added this skip over commented sections\n",
    "        s = ignore_comment(s)\n",
    "        if s != '':\n",
    "            if is_number(s[s.find('=')+2:]):\n",
    "                q[s[:s.find(' =')]] = float(s[s.find('=')+2:])\n",
    "            else:\n",
    "                q[s[:s.find(' =')]] = s[s.find('=')+2:-1]\n",
    "\n",
    "    q.pop('')\n",
    "    return q # inivals dict has dict of initial values at key given by 'original'"
   ]
  },
  {
   "cell_type": "code",
   "execution_count": 67,
   "id": "dfc35e6f",
   "metadata": {},
   "outputs": [],
   "source": [
    "def get_power(params, l_min, l_max):\n",
    "        \n",
    "    #CLASS gives results in natural units\n",
    "    #convert to muK^2 to match data\n",
    "    T_cmb = 2.7255e6 #temp in microkelvins\n",
    "\n",
    "    #create an instance of CLASS wrapper w/correct params\n",
    "    cosmo = Class()\n",
    "    cosmo.set(params)\n",
    "    #cosmo.set({'output':'tCl,pCl,lCl,mPk','lensing':'yes','P_k_max_1/Mpc':3.0})\n",
    "    \n",
    "    cosmo.compute()\n",
    "    \n",
    "    #lensed cl until l=l_max\n",
    "    output = cosmo.raw_cl(l_max)#cosmo.lensed_cl(l_max)\n",
    "    ls = output['ell'][l_min:]\n",
    "    Cls = output['tt'][l_min:]*T_cmb**2\n",
    "    \n",
    "\n",
    "    Dls = ls*(ls+1)*Cls/(2*np.pi)\n",
    "    \n",
    "    #clean ups\n",
    "    cosmo.struct_cleanup()\n",
    "    cosmo.empty()\n",
    "    \n",
    "    return ls, Cls, Dls"
   ]
  },
  {
   "cell_type": "code",
   "execution_count": 68,
   "id": "907673a5",
   "metadata": {},
   "outputs": [],
   "source": [
    "model_pars = read_ini_file('example_axiCLASS.ini', loc='/Users/saravannah/Axion-MCMC/axion_MCMC/')\n",
    "model_pars['n_axion'] = 3\n",
    "\n",
    "l_model, Cl_model, Dl_model = get_power(model_pars, l_min, l_max)\n"
   ]
  },
  {
   "cell_type": "code",
   "execution_count": 72,
   "id": "e9dff2b5",
   "metadata": {},
   "outputs": [
    {
     "data": {
      "text/plain": [
       "<matplotlib.collections.LineCollection at 0x7f9908b2ffd0>"
      ]
     },
     "execution_count": 72,
     "metadata": {},
     "output_type": "execute_result"
    },
    {
     "data": {
      "image/png": "[encoded data removed]",
      "text/plain": [
       "<Figure size 432x288 with 1 Axes>"
      ]
     },
     "metadata": {
      "needs_background": "light"
     },
     "output_type": "display_data"
    }
   ],
   "source": [
    "plt.plot(l_model, Dl_data, label='Data' )\n",
    "plt.plot(l_model, Dl_model, label='Model')\n",
    "\n",
    "plt.legend()\n",
    "plt.hlines(0,0,2000, colors='Black', linestyle='dashed')"
   ]
  },
  {
   "cell_type": "code",
   "execution_count": null,
   "id": "05408c88",
   "metadata": {},
   "outputs": [],
   "source": []
  }
 ],
 "metadata": {
  "kernelspec": {
   "display_name": "Python 3",
   "language": "python",
   "name": "python3"
  },
  "language_info": {
   "codemirror_mode": {
    "name": "ipython",
    "version": 3
   },
   "file_extension": ".py",
   "mimetype": "text/x-python",
   "name": "python",
   "nbconvert_exporter": "python",
   "pygments_lexer": "ipython3",
   "version": "3.9.2"
  }
 },
 "nbformat": 4,
 "nbformat_minor": 5
}
