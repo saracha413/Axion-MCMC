{
 "cells": [
  {
   "cell_type": "code",
   "execution_count": 7,
   "id": "7a07e2ec",
   "metadata": {},
   "outputs": [],
   "source": [
    "#adapted from embarassingly paralell MCMC using Pool here:\n",
    "# https://linuxtut.com/en/02d66723d03d7f977bb8/\n",
    "\n",
    "\n",
    "from mcmc import *\n",
    "from utilities import *\n",
    "import matplotlib\n",
    "import signal\n",
    "from multiprocessing import Process, TimeoutError\n",
    "from classy import Class\n",
    "from mcmc import *\n",
    "\n",
    "\n",
    "\n",
    "#instructions for user-defined exceptions from here https://www.programiz.com/python-programming/user-defined-exception\n",
    "class Error(Exception):\n",
    "\t\"\"\"Base class for other exceptions\"\"\"\n",
    "\tpass\n",
    "\n",
    "class ParamValueError(Error):\n",
    "\t\"\"\"Raised when strange parameter values prevent AxiCLASS from convering in reasonable time\"\"\"\n",
    "\tpass\n",
    "\n",
    "\n",
    "\n",
    "\n",
    "#borrowed from https://stackoverflow.com/questions/492519/timeout-on-a-function-call\n",
    "def handler(signum, frame):\n",
    "\traise ParamValueError\n",
    "\n",
    "def run_loop(pars):\n",
    "\tmodel_pars = pars['model_pars']\n",
    "\tl_min = pars['l_min']\n",
    "\tl_max = pars['l_max']\n",
    "\n",
    "\t\n",
    "\tfor i in range(10):\n",
    "\n",
    "\t\tsignal.signal(signal.SIGALRM, handler)\n",
    "\t\tsignal.alarm(20)\n",
    "\t\ttry:\n",
    "\t\t\tnew_pars = model_pars\n",
    "\t\t\tnew_pars['log10_axion_ac'] = np.random.normal(float(model_pars['log10_axion_ac']), abs(float(model_pars['log10_axion_ac'])*0.2))\n",
    "\t\t\tls, Cls, Dls = get_power(new_pars, l_min, l_max)\n",
    "\t\texcept ParamValueError:\n",
    "\t\t\tprint('This step took too long! Skipping to next entry.')"
   ]
  },
  {
   "cell_type": "code",
   "execution_count": 8,
   "id": "cc889ca4",
   "metadata": {},
   "outputs": [],
   "source": [
    "import numpy as np\n",
    "import numpy.random as rd\n",
    "import scipy.stats as st\n",
    "import copy, time, os\n",
    "from datetime import datetime as dt\n",
    "\n",
    "from multiprocessing import Pool, freeze_support\n",
    "\n",
    "%matplotlib inline\n",
    "import matplotlib.pyplot as plt\n",
    "\n",
    "import functools\n",
    "\n",
    "from p_tqdm import p_map"
   ]
  },
  {
   "cell_type": "code",
   "execution_count": null,
   "id": "c9304c19",
   "metadata": {},
   "outputs": [],
   "source": []
  },
  {
   "cell_type": "code",
   "execution_count": 9,
   "id": "5683e1db",
   "metadata": {},
   "outputs": [],
   "source": [
    "l_min = 90\n",
    "l_max = 2000\n",
    "num_steps = 100\n",
    "num_chains = 10\n",
    "num_burn_in = 0\n",
    "saveFile = True\n",
    "fileName = 'Sept-29_runs.txt'\n",
    "runFromFile = False\n",
    "inFileName = 'Sept-21_runs.txt'\n",
    "\n",
    "\n",
    "n_axion = 3\n",
    "\n",
    "model_pars = read_ini_file('example_axiCLASS.ini', loc='/Users/saravannah/Axion-MCMC/axion_MCMC/')\n",
    "model_pars['n_axion'] = n_axion\n",
    "\n",
    "params = {'num_burn_in': num_burn_in, \n",
    "          'l_min':  l_min, 'l_max': l_max, 'model_pars':model_pars }"
   ]
  },
  {
   "cell_type": "code",
   "execution_count": 10,
   "id": "586c8ee6",
   "metadata": {},
   "outputs": [],
   "source": [
    "#get parameters to start chains from\n",
    "\n",
    "if runFromFile:\n",
    "    #get full params from file\n",
    "    par0, par1, par2, par3, par4 = np.loadtxt(inFileName, unpack = True)\n",
    "    #find location of best Djs and start there\n",
    "    idx = np.argmin(par4)\n",
    "\n",
    "    log10_axion_ac_IN = par0[idx]\n",
    "    log10_fraction_axion_ac_IN = par1[idx]\n",
    "    omega_cdm_IN = par2[idx]\n",
    "    H0_IN = par3[idx]\n",
    "else:\n",
    "    log10_axion_ac_IN = float(params['model_pars']['log10_axion_ac'])\n",
    "    log10_fraction_axion_ac_IN = float(params['model_pars']['log10_fraction_axion_ac'])\n",
    "    omega_cdm_IN = float(params['model_pars']['omega_cdm'])\n",
    "    H0_IN = float(params['model_pars']['H0'])\n",
    "\n"
   ]
  },
  {
   "cell_type": "code",
   "execution_count": 13,
   "id": "f3ff1578",
   "metadata": {},
   "outputs": [
    {
     "name": "stderr",
     "output_type": "stream",
     "text": [
      "Chain # 15181: 100%|██████████| 50/50 [09:57<00:00, 11.94s/it]\n",
      "Chain # 15181: 100%|██████████| 50/50 [10:58<00:00, 13.16s/it]\n",
      "Chain # 15181: 100%|██████████| 50/50 [10:49<00:00, 12.98s/it]\n",
      "Chain # 15181: 100%|██████████| 50/50 [13:56<00:00, 16.73s/it]\n",
      "Chain # 15181: 100%|██████████| 50/50 [10:30<00:00, 12.62s/it]\n",
      "Chain # 15181: 100%|██████████| 50/50 [10:53<00:00, 13.08s/it]\n",
      "Chain # 15181: 100%|██████████| 50/50 [10:35<00:00, 12.71s/it]\n",
      "Chain # 15181: 100%|██████████| 50/50 [14:15<00:00, 17.12s/it]"
     ]
    },
    {
     "name": "stdout",
     "output_type": "stream",
     "text": [
      "11min 56s ± 1min 31s per loop (mean ± std. dev. of 7 runs, 1 loop each)\n"
     ]
    },
    {
     "name": "stderr",
     "output_type": "stream",
     "text": [
      "\n"
     ]
    }
   ],
   "source": [
    "import mcmc\n",
    "%timeit mcmc.mcmc(num_burn_in, l_min, l_max, n_axion, log10_axion_ac_IN, log10_fraction_axion_ac_IN, omega_cdm_IN, H0_IN, 50)"
   ]
  },
  {
   "cell_type": "code",
   "execution_count": null,
   "id": "3bd1c2c8",
   "metadata": {},
   "outputs": [],
   "source": []
  },
  {
   "cell_type": "code",
   "execution_count": null,
   "id": "3cc671e9",
   "metadata": {},
   "outputs": [],
   "source": []
  },
  {
   "cell_type": "code",
   "execution_count": null,
   "id": "a15f758a",
   "metadata": {},
   "outputs": [
    {
     "name": "stdout",
     "output_type": "stream",
     "text": [
      "Making  100  samples per chain for  10  chains. Burn-in rate:  0.0\n"
     ]
    }
   ],
   "source": [
    "######THIS CELL RUNS THE MCMC##########\n",
    "\n",
    "freeze_support()\n",
    "\n",
    "print('Making ', num_steps, ' samples per chain for ',  num_chains, ' chains. Burn-in rate: ', num_burn_in/num_steps)\n",
    "pool = Pool(processes=num_chains)\n",
    "n_trials_per_process = [num_steps] * num_chains\n",
    "start = time.time()\n",
    "total_sampling_result = pool.map(functools.partial(mcmc, num_burn_in, l_min, l_max, n_axion, log10_axion_ac_IN, log10_fraction_axion_ac_IN, omega_cdm_IN, H0_IN), n_trials_per_process)\n",
    "end = time.time()\n",
    "pool.close()\n",
    "print('total exec time: ', end-start)"
   ]
  },
  {
   "cell_type": "code",
   "execution_count": 7,
   "id": "756deec5",
   "metadata": {},
   "outputs": [
    {
     "name": "stdout",
     "output_type": "stream",
     "text": [
      "10\n"
     ]
    }
   ],
   "source": [
    "print(len(total_sampling_result))"
   ]
  },
  {
   "cell_type": "code",
   "execution_count": 19,
   "id": "b6d142a2",
   "metadata": {},
   "outputs": [],
   "source": [
    "log10_axion_ac = np.zeros((num_chains, len(total_sampling_result[0])))\n",
    "log10_fraction_axion_ac = np.zeros((num_chains, len(total_sampling_result[0])))\n",
    "omega_cdm = np.zeros((num_chains, len(total_sampling_result[0])))\n",
    "H0 = np.zeros((num_chains, len(total_sampling_result[0])))\n",
    "Djs = np.zeros((num_chains, len(total_sampling_result[0])))\n",
    "\n",
    "for i in range(num_chains):\n",
    "    log10_axion_ac[i] = [col[0] for col in total_sampling_result[i]] #extract column\n",
    "    log10_fraction_axion_ac[i] = [col[1] for col in total_sampling_result[i]]\n",
    "    omega_cdm[i] = [col[2] for col in total_sampling_result[i]]\n",
    "    H0[i] = [col[3] for col in total_sampling_result[i]]\n",
    "    Djs[i] = [col[4] for col in total_sampling_result[i]]\n",
    "\n",
    "\n",
    "#chain0, chain1, chain2, chain3, chain4, chain5, chain6, chain7, chain8, chain9 = total_sampling_result[0], total_sampling_result[1], total_sampling_result[2], total_sampling_result[3], total_sampling_result[4], total_sampling_result[5], total_sampling_result[6], total_sampling_result[7], total_sampling_result[8], total_sampling_result[9]"
   ]
  },
  {
   "cell_type": "code",
   "execution_count": null,
   "id": "263a3dd2",
   "metadata": {},
   "outputs": [],
   "source": []
  },
  {
   "cell_type": "code",
   "execution_count": 20,
   "id": "47453136",
   "metadata": {},
   "outputs": [],
   "source": [
    "saveFile = True\n",
    "\n",
    "if saveFile:\n",
    "    #create total array to combine all the chain data\n",
    "    big_arr = np.zeros((5, len(log10_axion_ac[0])*num_chains))\n",
    "\n",
    "    big_arr[0] = np.concatenate(([log10_axion_ac[i] for i in range(num_chains)]))\n",
    "    big_arr[1] = np.concatenate(([log10_fraction_axion_ac[i] for i in range(num_chains)]))\n",
    "    big_arr[2] = np.concatenate(([omega_cdm[i] for i in range(num_chains)]))\n",
    "    big_arr[3] = np.concatenate(([H0[i] for i in range(num_chains)]))\n",
    "    big_arr[4] = np.concatenate(([Djs[i] for i in range(num_chains)]))\n",
    "    #save run to file\n",
    "    with open(fileName, 'a') as fileObject:\n",
    "        np.savetxt(fileObject, np.transpose(big_arr))   "
   ]
  },
  {
   "cell_type": "code",
   "execution_count": null,
   "id": "188768cc",
   "metadata": {},
   "outputs": [],
   "source": []
  },
  {
   "cell_type": "code",
   "execution_count": 21,
   "id": "db74978b",
   "metadata": {},
   "outputs": [],
   "source": [
    "#start_serial = time.time()\n",
    "#serial_mcmc_results = mcmc(num_burn_in, l_min, l_max, n_axion, log10_axion_ac,\n",
    "#                            log10_fraction_axion_ac, omega_cdm, H0, num_steps)\n",
    "#end_serial = time.time()\n",
    "#print('total exec time: ', end_serial-start_serial)"
   ]
  },
  {
   "cell_type": "code",
   "execution_count": 22,
   "id": "1cf9351f",
   "metadata": {},
   "outputs": [
    {
     "data": {
      "image/png": "[encoded data removed]",
      "text/plain": [
       "<Figure size 432x288 with 1 Axes>"
      ]
     },
     "metadata": {
      "needs_background": "light"
     },
     "output_type": "display_data"
    }
   ],
   "source": [
    "steps = np.arange(0,len(total_sampling_result[0]))\n",
    "for i in range(num_chains):\n",
    "    plt.plot(steps, log10_axion_ac[i])"
   ]
  },
  {
   "cell_type": "code",
   "execution_count": 12,
   "id": "65feb7de",
   "metadata": {},
   "outputs": [
    {
     "name": "stdout",
     "output_type": "stream",
     "text": [
      "7.281000000000001\n"
     ]
    }
   ],
   "source": [
    "model_pars = read_ini_file('example_axiCLASS.ini', loc='/Users/saravannah/Axion-MCMC/axion_MCMC/')\n",
    "\n",
    "print(abs(float(model_pars['H0'])*0.1))"
   ]
  },
  {
   "cell_type": "code",
   "execution_count": null,
   "id": "28bc29b9",
   "metadata": {},
   "outputs": [],
   "source": []
  }
 ],
 "metadata": {
  "kernelspec": {
   "display_name": "Python 3",
   "language": "python",
   "name": "python3"
  },
  "language_info": {
   "codemirror_mode": {
    "name": "ipython",
    "version": 3
   },
   "file_extension": ".py",
   "mimetype": "text/x-python",
   "name": "python",
   "nbconvert_exporter": "python",
   "pygments_lexer": "ipython3",
   "version": "3.9.2"
  }
 },
 "nbformat": 4,
 "nbformat_minor": 5
}
