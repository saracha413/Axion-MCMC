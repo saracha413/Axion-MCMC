{
 "cells": [
  {
   "cell_type": "code",
   "execution_count": 1,
   "id": "stretch-active",
   "metadata": {},
   "outputs": [],
   "source": [
    "###Sara Vannah\n",
    "\n",
    "\n",
    "# import necessary modules\n",
    "# uncomment to get plots displayed in notebook\n",
    "%matplotlib inline\n",
    "import matplotlib\n",
    "import matplotlib.pyplot as plt\n",
    "import numpy as np\n",
    "from classy import Class\n",
    "from scipy.optimize import fsolve\n",
    "from scipy.interpolate import interp1d\n",
    "from scipy.stats import norm\n",
    "import math\n",
    "\n",
    "import os, os.path\n",
    "\n",
    "from tqdm import tqdm_notebook as tqdm\n",
    "from tqdm import tnrange"
   ]
  },
  {
   "cell_type": "code",
   "execution_count": 2,
   "id": "circular-college",
   "metadata": {},
   "outputs": [],
   "source": [
    "##This is from AxiCLASS\n",
    "def is_number(s):\n",
    "# ---------------------------------- This func checks whether a thing is a number. Found online\n",
    "    try:\n",
    "        float(s)\n",
    "    except ValueError:\n",
    "        pass\n",
    "\n",
    "    try:\n",
    "        import unicodedata\n",
    "        unicodedata.numeric(s)\n",
    "        return True\n",
    "    except (TypeError, ValueError):\n",
    "        pass\n",
    "\n",
    "    return False"
   ]
  },
  {
   "cell_type": "code",
   "execution_count": 3,
   "id": "stylish-flush",
   "metadata": {},
   "outputs": [],
   "source": [
    "#function for ignoring comments in ini files\n",
    "def ignore_comment(line):\n",
    "    if '#' in line:\n",
    "        #save all elements up to the #\n",
    "        line = line[:line.find('#')]\n",
    "    if '*' in line:\n",
    "        line = ''\n",
    "\n",
    "    return line"
   ]
  },
  {
   "cell_type": "code",
   "execution_count": 4,
   "id": "current-merchandise",
   "metadata": {},
   "outputs": [],
   "source": [
    "##This is from AxiCLASS\n",
    "\n",
    "def read_ini_file(inifile, loc = ''):\n",
    "\n",
    "# Function to read ini file and save it in a dictionary that can be passed to classy\n",
    "# Takes the required argument inifile = filename with extension\n",
    "# Takes the optional argument loc = location of your ini file, ending in a '/'\n",
    "# Returns dictionary of everything contained in your ini file\n",
    "# \n",
    "    inivals = {}\n",
    "\n",
    "    with open(loc + inifile) as f: # opening initialisation file as f\n",
    "        content = f.readlines() # reading the initialisation file and turning it into a list\n",
    "\n",
    "    q = {} # initialise q as an empty dictionary\n",
    "    for s in content: # iterates over lines in .ini file and saves information, turning numbers into floats from strings\n",
    "        #SV --- added this skip over commented sections\n",
    "        s = ignore_comment(s)\n",
    "        if s != '':\n",
    "            if is_number(s[s.find('=')+2:]):\n",
    "                q[s[:s.find(' =')]] = float(s[s.find('=')+2:])\n",
    "            else:\n",
    "                q[s[:s.find(' =')]] = s[s.find('=')+2:-1]\n",
    "\n",
    "    q.pop('')\n",
    "    return q # inivals dict has dict of initial values at key given by 'original'"
   ]
  },
  {
   "cell_type": "code",
   "execution_count": 5,
   "id": "interstate-tunisia",
   "metadata": {},
   "outputs": [],
   "source": [
    "#get power spectrum from CLASS for a given parameter set\n",
    "#currently set to TT only\n",
    "#modified from https://github.com/lesgourg/class_public/wiki/Python-wrapper\n",
    "def get_power(params):\n",
    "    \n",
    "    l_max = 2000 \n",
    "    \n",
    "    #create an instance of CLASS wrapper w/correct params\n",
    "    cosmo = Class()\n",
    "    cosmo.set(params)\n",
    "    #cosmo.set({'output':'tCl,pCl,lCl,mPk','lensing':'yes','P_k_max_1/Mpc':3.0})\n",
    "    \n",
    "    cosmo.compute()\n",
    "    \n",
    "    #lensed cl until l=l_max\n",
    "    output = cosmo.lensed_cl(l_max)\n",
    "    #CHECK THAT THIS IS INDEXED CORRECTLY --- NEED TO CHECK CLASS DOCUMENTATION ON OUTPUT OF LENSED_CL\n",
    "    ls = output['ell'][2:]\n",
    "    Cls = output['tt'][2:]\n",
    "    \n",
    "    \n",
    "    #ls = np.arange(l_max+1)\n",
    "    Dls = ls*(ls+1)*Cls/(2*np.pi)\n",
    "    \n",
    "    #clean ups\n",
    "    cosmo.struct_cleanup()\n",
    "    cosmo.empty()\n",
    "    \n",
    "    return ls, Cls, Dls"
   ]
  },
  {
   "cell_type": "code",
   "execution_count": 6,
   "id": "settled-chicken",
   "metadata": {},
   "outputs": [],
   "source": [
    "pars_lcdm = {'omega_b':0.022032,\n",
    "        'omega_cdm':0.12038,\n",
    "        'h':0.67556,\n",
    "        'A_s':2.215e-9,\n",
    "        'n_s':0.9619,\n",
    "        'tau_reio':0.0925}\n"
   ]
  },
  {
   "cell_type": "code",
   "execution_count": 7,
   "id": "developed-explanation",
   "metadata": {},
   "outputs": [
    {
     "name": "stdout",
     "output_type": "stream",
     "text": [
      "{'H0': '70.43', 'omega_b': '2.309e-2', 'omega_cdm': '0.1257', 'P_k_max_h/Mpc': '1', 'tau_reio': '0.05983', 'ln10^{10}A_s': '3.065', 'n_s': '0.9847', 'N_ur': '2.0328', 'N_ncdm': '1', 'm_ncdm': '0.06', 'T_ncdm': '0.71611', 'output': 'tCl,pCl,lCl,mPk', 'lensing': 'yes', 'ic': 'ad', 'gauge': 'synchronous', 'root': 'output/sara_test_unused_', 'write parameters': 'yes', 'write background': 'yes', 'write thermodynamics': 'no', 'k_output_values': '0.01', 'recfast_Nz0': '20000', 'input_verbose': 0.0, 'background_verbose': 0.0, 'thermodynamics_verbose': 0.0, 'perturbations_verbose': 0.0, 'transfer_verbose': 0.0, 'primordial_verbose': 0.0, 'spectra_verbose': 0.0, 'nonlinear_verbose': 0.0, 'lensing_verbose': 0.0, 'output_verbose': 0.0, 'do_shooting': 'yes ', 'fluid_equation_of_state': 'EDE', 'ede_parametrization': 'pheno_axion', 'nu_fld': '1', 'n_cap_infinity': '100', 'w_fld_f': '0.8', 'cs2_is_wn': 'yes', 'log10_a_c': '-4.', 'fraction_fld_ac': '0.01', 'use_ppf': 'no', 'use_big_theta_fld': 'yes'}\n"
     ]
    }
   ],
   "source": [
    "#input_pars = read_ini_file('example_axiCLASS.ini', loc='/Users/saravannah/axiclass/')\n",
    "\n",
    "input_pars = read_ini_file('MOD_pheno_axion_transition_tests.ini', loc='/Users/saravannah/Axion-MCMC/axion_MCMC/')\n",
    "\n",
    "print(input_pars)"
   ]
  },
  {
   "cell_type": "code",
   "execution_count": null,
   "id": "weighted-shipping",
   "metadata": {},
   "outputs": [],
   "source": []
  },
  {
   "cell_type": "code",
   "execution_count": 8,
   "id": "virgin-identification",
   "metadata": {
    "scrolled": true
   },
   "outputs": [],
   "source": [
    "new_pars = input_pars\n",
    "#new_pars['n_axion'] = np.inf\n",
    "new_pars['log10_a_c'] = np.random.normal(-3.7, 0.5)\n",
    "new_pars['fraction_fld_ac'] = np.random.normal(0.01, 0.005)\n",
    "\n",
    "\n",
    "\n",
    "\n",
    "tt_ls, tt_cls, tt_dls = get_power(new_pars)\n",
    "\n",
    "#lcdm_ls, lcdm_cls, lcdm_dls = get_power(pars_lcdm)"
   ]
  },
  {
   "cell_type": "code",
   "execution_count": 9,
   "id": "female-nepal",
   "metadata": {},
   "outputs": [
    {
     "data": {
      "text/plain": [
       "[<matplotlib.lines.Line2D at 0x7fce007efb20>]"
      ]
     },
     "execution_count": 9,
     "metadata": {},
     "output_type": "execute_result"
    },
    {
     "data": {
      "image/png": "[encoded data removed]",
      "text/plain": [
       "<Figure size 432x288 with 1 Axes>"
      ]
     },
     "metadata": {
      "needs_background": "light"
     },
     "output_type": "display_data"
    }
   ],
   "source": [
    "plt.plot(tt_ls, tt_dls, )"
   ]
  },
  {
   "cell_type": "code",
   "execution_count": 10,
   "id": "parliamentary-polymer",
   "metadata": {},
   "outputs": [],
   "source": [
    "#calculate modal fraction for a power spectrum\n",
    "def modal(dls):\n",
    "    modal = dls/np.sum(dls)\n",
    "    \n",
    "    return modal\n",
    "    \n",
    "#calculate Jensen-Shannon divergence\n",
    "def JSD(mod_Dl, dat_Dl):\n",
    "    p, q = modal(mod_Dl), modal(dat_Dl)\n",
    "    r = 1/2 * (p+q)\n",
    "    \n",
    "    return 1/2 * np.nansum(p*np.log(p/r)) + 1/2 * np.nansum(q*np.log(q/r))\n"
   ]
  },
  {
   "cell_type": "code",
   "execution_count": null,
   "id": "expired-circle",
   "metadata": {},
   "outputs": [],
   "source": []
  },
  {
   "cell_type": "code",
   "execution_count": null,
   "id": "short-supplier",
   "metadata": {},
   "outputs": [],
   "source": []
  },
  {
   "cell_type": "code",
   "execution_count": 11,
   "id": "becoming-teaching",
   "metadata": {},
   "outputs": [],
   "source": [
    "####TO-DO: add truncation scheme\n",
    "\n",
    "def initiate(params):\n",
    "    \n",
    "    directory = os.getcwd()\n",
    "    fileName = os.path.join(directory,'planck/planck_tt_spectrum_2018.txt')\n",
    "    l_data, Dl_data, Dl_data_err_lo, Dl_data_err_hi = np.loadtxt(fileName, unpack = True)\n",
    "    \n",
    "    ####TO-DO: add a_c to params (check axiCLASS)\n",
    "    #log10_axion_ac = -3.7\n",
    "    \n",
    "    \n",
    "    l_model, Cl_model, Dl_model = get_power(params)\n",
    "    \n",
    "    \n",
    "    ##TO-DO: remove indexing when you add truncation scheme\n",
    "    return Dl_model, Dl_data[:len(Dl_model)] #, l_max"
   ]
  },
  {
   "cell_type": "code",
   "execution_count": 15,
   "id": "satellite-brook",
   "metadata": {},
   "outputs": [
    {
     "name": "stdout",
     "output_type": "stream",
     "text": [
      "All done! Completed in  160.76998805999756  seconds.\n"
     ]
    }
   ],
   "source": [
    "import axiclass_mcmc as mcmc\n",
    "import multiprocessing\n",
    "from multiprocessing import Process\n",
    "import time\n",
    "\n",
    "start = time.time()\n",
    "\n",
    "processlist = []\n",
    "\n",
    "num_walkers = 10 #multiprocessing.cpu_count()\n",
    "\n",
    "\n",
    "#doing this to reduce memory being hogged\n",
    "og_ac = float(input_pars['log10_a_c'])\n",
    "og_frac_ac = float(input_pars['fraction_fld_ac'])\n",
    "pars = input_pars\n",
    "\n",
    "\n",
    "#initiate and start all processes\n",
    "for i in range(num_walkers):\n",
    "    pars['log10_a_c'] = np.random.normal(og_ac, 0.5)\n",
    "    pars['fraction_fld_ac'] = np.random.normal(og_frac_ac, 0.005)\n",
    "    \n",
    "    #open the parallel process on processor \n",
    "    process = Process(target=mcmc.MCMC_run, args=(pars,))\n",
    "    processlist.append(process)\n",
    "    process.start()\n",
    "    \n",
    "#join processes\n",
    "for process in processlist:\n",
    "    process.join()##\n",
    "\n",
    "print('All done! Completed in ', time.time()-start, ' seconds.')"
   ]
  },
  {
   "cell_type": "code",
   "execution_count": null,
   "id": "relevant-teacher",
   "metadata": {},
   "outputs": [],
   "source": []
  },
  {
   "cell_type": "code",
   "execution_count": null,
   "id": "quarterly-suffering",
   "metadata": {},
   "outputs": [],
   "source": []
  },
  {
   "cell_type": "code",
   "execution_count": null,
   "id": "hydraulic-procurement",
   "metadata": {},
   "outputs": [],
   "source": []
  },
  {
   "cell_type": "code",
   "execution_count": 14,
   "id": "collectible-checkout",
   "metadata": {
    "scrolled": false
   },
   "outputs": [
    {
     "name": "stdout",
     "output_type": "stream",
     "text": [
      "All done! Completed in  153.3782880306244  seconds.\n"
     ]
    }
   ],
   "source": [
    "import axiclass_mcmc as mcmc\n",
    "import multiprocessing as mp\n",
    "from multiprocessing import Pool\n",
    "import time\n",
    "\n",
    "start = time.time()\n",
    "\n",
    "pool = mp.Pool(mp.cpu_count()+2)\n",
    "\n",
    "num_walkers = 10\n",
    "\n",
    "#doing this to reduce memory being hogged\n",
    "og_ac = float(input_pars['log10_a_c'])\n",
    "og_frac_ac = float(input_pars['fraction_fld_ac'])\n",
    "pars = input_pars\n",
    "#pars['n_axion'] = 2\n",
    "\n",
    "for i in range(num_walkers):\n",
    "    pars['log10_a_c'] = np.random.normal(og_ac, 0.5)\n",
    "    pars['fraction_fld_ac'] = np.random.normal(og_frac_ac, 0.005)\n",
    "    pool.apply_async(mcmc.MCMC_run, args=(pars,))\n",
    "\n",
    "\n",
    "#pool.apply_async(mcmc.MCMC_run, args=(input_pars,))\n",
    "\n",
    "pool.close()\n",
    "pool.join()\n",
    "\n",
    "\n",
    "\n",
    "\n",
    "print('All done! Completed in ', time.time()-start, ' seconds.')"
   ]
  },
  {
   "cell_type": "code",
   "execution_count": null,
   "id": "personal-albuquerque",
   "metadata": {},
   "outputs": [],
   "source": []
  },
  {
   "cell_type": "code",
   "execution_count": null,
   "id": "adequate-bundle",
   "metadata": {},
   "outputs": [],
   "source": []
  },
  {
   "cell_type": "code",
   "execution_count": null,
   "id": "adapted-cyprus",
   "metadata": {},
   "outputs": [],
   "source": []
  },
  {
   "cell_type": "code",
   "execution_count": null,
   "id": "religious-receiver",
   "metadata": {},
   "outputs": [],
   "source": []
  },
  {
   "cell_type": "code",
   "execution_count": 1,
   "id": "stopped-extraction",
   "metadata": {},
   "outputs": [],
   "source": [
    "#Bubble sorting algortihm from https://realpython.com/sorting-algorithms-python/#the-bubble-sort-algorithm-in-python\n",
    "\n",
    "def reorganize(log_ac_vals, JSD_vals):\n",
    "    new_log_ac_vals, new_JSD_vals = log_ac_vals, JSD_vals\n",
    "    n = len(log_ac_vals)\n",
    "    \n",
    "    for i in range(n):\n",
    "        already_sorted = True\n",
    "        \n",
    "        for j in range(n-i-1):\n",
    "            if new_log_ac_vals[j] > new_log_ac_vals[j+1]:\n",
    "                new_log_ac_vals[j], new_log_ac_vals[j+1] = new_log_ac_vals[j+1], new_log_ac_vals[j]\n",
    "                new_JSD_vals[j], new_JSD_vals[j+1] = new_JSD_vals[j+1], new_JSD_vals[j]\n",
    "                \n",
    "                already_sorted = False\n",
    "                \n",
    "        if already_sorted:\n",
    "            break\n",
    "            \n",
    "    return new_log_ac_vals, new_JSD_vals\n",
    "        "
   ]
  },
  {
   "cell_type": "code",
   "execution_count": 2,
   "id": "flush-appearance",
   "metadata": {},
   "outputs": [
    {
     "ename": "NameError",
     "evalue": "name 'log_ac_n2' is not defined",
     "output_type": "error",
     "traceback": [
      "\u001b[0;31m---------------------------------------------------------------------------\u001b[0m",
      "\u001b[0;31mNameError\u001b[0m                                 Traceback (most recent call last)",
      "\u001b[0;32m<ipython-input-2-3bcd238243d8>\u001b[0m in \u001b[0;36m<module>\u001b[0;34m\u001b[0m\n\u001b[0;32m----> 1\u001b[0;31m \u001b[0mnew_log_ac_n2\u001b[0m\u001b[0;34m,\u001b[0m \u001b[0mnew_log_JSD_n2\u001b[0m \u001b[0;34m=\u001b[0m \u001b[0mreorganize\u001b[0m\u001b[0;34m(\u001b[0m\u001b[0mlog_ac_n2\u001b[0m\u001b[0;34m,\u001b[0m \u001b[0mJSD_n2\u001b[0m\u001b[0;34m)\u001b[0m\u001b[0;34m\u001b[0m\u001b[0;34m\u001b[0m\u001b[0m\n\u001b[0m\u001b[1;32m      2\u001b[0m \u001b[0;34m\u001b[0m\u001b[0m\n\u001b[1;32m      3\u001b[0m \u001b[0mplt\u001b[0m\u001b[0;34m.\u001b[0m\u001b[0mplot\u001b[0m\u001b[0;34m(\u001b[0m\u001b[0mnew_log_ac_n2\u001b[0m\u001b[0;34m,\u001b[0m \u001b[0mnew_log_JSD_n2\u001b[0m \u001b[0;34m)\u001b[0m\u001b[0;34m\u001b[0m\u001b[0;34m\u001b[0m\u001b[0m\n\u001b[1;32m      4\u001b[0m \u001b[0mplt\u001b[0m\u001b[0;34m.\u001b[0m\u001b[0mscatter\u001b[0m\u001b[0;34m(\u001b[0m\u001b[0mlog_ac_n2\u001b[0m\u001b[0;34m,\u001b[0m \u001b[0mJSD_n2\u001b[0m\u001b[0;34m)\u001b[0m\u001b[0;34m\u001b[0m\u001b[0;34m\u001b[0m\u001b[0m\n",
      "\u001b[0;31mNameError\u001b[0m: name 'log_ac_n2' is not defined"
     ]
    }
   ],
   "source": [
    "new_log_ac_n2, new_log_JSD_n2 = reorganize(log_ac_n2, JSD_n2)\n",
    "\n",
    "plt.plot(new_log_ac_n2, new_log_JSD_n2 )\n",
    "plt.scatter(log_ac_n2, JSD_n2)"
   ]
  },
  {
   "cell_type": "code",
   "execution_count": null,
   "id": "reported-greensboro",
   "metadata": {},
   "outputs": [],
   "source": []
  },
  {
   "cell_type": "code",
   "execution_count": null,
   "id": "willing-intervention",
   "metadata": {},
   "outputs": [],
   "source": []
  },
  {
   "cell_type": "code",
   "execution_count": 46,
   "id": "temporal-bacon",
   "metadata": {},
   "outputs": [
    {
     "data": {
      "image/png": "[encoded data removed]",
      "text/plain": [
       "<Figure size 432x288 with 1 Axes>"
      ]
     },
     "metadata": {
      "needs_background": "light"
     },
     "output_type": "display_data"
    }
   ],
   "source": [
    "log_ac_n2, JSD_n2 = np.loadtxt('vary_ac_naxion=2.txt', unpack=True)\n",
    "log_ac_n3, JSD_n3 = np.loadtxt('vary_ac_naxion=3.txt', unpack=True)\n",
    "log_ac_n10, JSD_n10 = np.loadtxt('vary_ac_naxion=10.txt', unpack=True)\n",
    "\n",
    "log_ac_n2, JSD_n2 = reorganize(log_ac_n2, JSD_n2)\n",
    "log_ac_n3, JSD_n3 = reorganize(log_ac_n3, JSD_n3)\n",
    "log_ac_n10, JSD_n10 = reorganize(log_ac_n10, JSD_n10)\n",
    "\n",
    "\n",
    "plt.plot(log_ac_n2, JSD_n2, label='n=2')\n",
    "plt.plot(log_ac_n3, JSD_n3, label='n=3')\n",
    "plt.plot(log_ac_n10, JSD_n10, label='n=10')\n",
    "plt.xlabel('log10_ac')\n",
    "plt.ylabel('JSD')\n",
    "\n",
    "plt.ylim([0.0005,0.0025])\n",
    "#plt.xlim([-3.2,-2.9])\n",
    "plt.legend()\n",
    "\n",
    "plt.savefig('JSD_vs_log10_ac.pdf')"
   ]
  },
  {
   "cell_type": "code",
   "execution_count": 47,
   "id": "terminal-physics",
   "metadata": {},
   "outputs": [
    {
     "data": {
      "image/png": "[encoded data removed]",
      "text/plain": [
       "<Figure size 432x288 with 1 Axes>"
      ]
     },
     "metadata": {
      "needs_background": "light"
     },
     "output_type": "display_data"
    }
   ],
   "source": [
    "plt.scatter(log_ac_n2, JSD_n2)\n",
    "plt.xlabel('log10_ac')\n",
    "plt.ylabel('JSD')\n",
    "plt.savefig('JSD_vs_log10_ac_n=2.pdf')"
   ]
  },
  {
   "cell_type": "code",
   "execution_count": null,
   "id": "disturbed-runner",
   "metadata": {},
   "outputs": [],
   "source": []
  },
  {
   "cell_type": "code",
   "execution_count": 53,
   "id": "rising-delivery",
   "metadata": {},
   "outputs": [],
   "source": [
    "### to-do: make l_max set by truncation\n",
    "\n",
    "def MCMC_run(params, numsteps, outFile): \n",
    "    \n",
    "    burn_in_steps = 5\n",
    "    \n",
    "    #Dl_model, Dl_data, l_max = initiate(params)\n",
    "    Dl_model, Dl_data = initiate(params)\n",
    "    \n",
    "    #starting chain\n",
    "    JSD_current = JSD(Dl_model, Dl_data)\n",
    "    p_current = -3.5 #whatever params you're varying in MCMC\n",
    "    stdDevs = 0.5 #standard deviation for params\n",
    "    \n",
    "    #check if file to write to exists; create it if not\n",
    "    #if not os.path.isfile(outFile):\n",
    "    #    \n",
    "    \n",
    "    #with open(outFile, 'a') as fileObject:\n",
    "    #    line = np.append(p_current, JSD_current)\n",
    "    #    np.savetxt(fileObject,np.transpose(line),delimiter=',',newline = ' ')\n",
    "    #    fileObject.write('\\n')\n",
    "        \n",
    "    #tqdm progress bar     \n",
    "    for t in tnrange(numsteps, desc='MCMC loop'):\n",
    "        \n",
    "        write_params_to_file = False\n",
    "        \n",
    "        #suggest a random value for params from a normal distrib centered on current values\n",
    "        p_propose = norm(p_current, stdDevs).rvs()\n",
    "        ##reset params array\n",
    "        #fullParams = params\n",
    "        ####TO-DO: write this fxn to use whatever variable param you want. hard-coded for now\n",
    "        params['log10_axion_ac'] = p_propose\n",
    "        \n",
    "        l_propose, Cl_propose, Dl_propose = get_power(params)\n",
    "        \n",
    "        JSD_propose = JSD(Dl_propose, Dl_data)\n",
    "        x = JSD_propose/JSD_current\n",
    "        #JSD is smaller so take step\n",
    "        #if x < 1:\n",
    "        #    p_current = p_propose\n",
    "        #    JSD_current = JSD_propose\n",
    "        #    write_params_to_file = True\n",
    "        ##Metropolis-Hastings - small chance of taking step even it doesn't have a lower JSD\n",
    "        ##helps keep walker from getting stuck\n",
    "        #####TO-DO: check lit to see if this acceptance is best way of doing this\n",
    "        #elif np.random.rand() < (1/x)**2:\n",
    "        #        p_current = p_propose\n",
    "        #        JSD_current = JSD_propose\n",
    "        #        print(p_current, JSD_current)\n",
    "        #        write_params_to_file = True\n",
    "        \n",
    "        #Metropolis-Hastings acceptance criterion \n",
    "        #from https://github.com/AstroHackWeek/AstroHackWeek2015/blob/3e13d786ecb86fd4757c08ab63cfc08135933556/hacks/sklearn-CV-Bayes.py\n",
    "        if x > np.random.uniform():   \n",
    "            p_current = p_propose\n",
    "            JSD_current = JSD_propose\n",
    "            write_params_to_file = True\n",
    "                \n",
    "            if t > burn_in_steps:\n",
    "                with open(outFile, 'a') as fileObject:\n",
    "                    line = np.append(p_current, JSD_current)\n",
    "                    np.savetxt(fileObject,np.transpose(line),delimiter=',',newline = ' ')\n",
    "                    fileObject.write('\\n')\n",
    "\n",
    "        \n",
    "    fileObject.close()"
   ]
  },
  {
   "cell_type": "code",
   "execution_count": 21,
   "id": "annual-teacher",
   "metadata": {},
   "outputs": [
    {
     "name": "stdout",
     "output_type": "stream",
     "text": [
      "0.6901722765699982\n"
     ]
    }
   ],
   "source": [
    "print(np.random.uniform(0, np.log(2)))"
   ]
  },
  {
   "cell_type": "code",
   "execution_count": null,
   "id": "cathedral-extent",
   "metadata": {},
   "outputs": [
    {
     "name": "stderr",
     "output_type": "stream",
     "text": [
      "<ipython-input-20-e5fcd79a6022>:25: TqdmDeprecationWarning: Please use `tqdm.notebook.trange` instead of `tqdm.tnrange`\n",
      "  for t in tnrange(numsteps, desc='MCMC loop'):\n"
     ]
    },
    {
     "data": {
      "application/vnd.jupyter.widget-view+json": {
       "model_id": "2a88c3e9e46848d1b667f2b9573707d5",
       "version_major": 2,
       "version_minor": 0
      },
      "text/plain": [
       "MCMC loop:   0%|          | 0/200 [00:00<?, ?it/s]"
      ]
     },
     "metadata": {},
     "output_type": "display_data"
    },
    {
     "name": "stderr",
     "output_type": "stream",
     "text": [
      "<ipython-input-11-1a7cd2f50a25>:12: RuntimeWarning: invalid value encountered in log\n",
      "  return 1/2 * np.nansum(p*np.log(p/r)) + 1/2 * np.nansum(q*np.log(q/r))\n"
     ]
    }
   ],
   "source": [
    "MCMC_run(input_pars, 200, 'log_ac_n=2')"
   ]
  },
  {
   "cell_type": "code",
   "execution_count": 15,
   "id": "conscious-aquatic",
   "metadata": {},
   "outputs": [
    {
     "data": {
      "text/plain": [
       "Text(0, 0.5, 'JSD')"
      ]
     },
     "execution_count": 15,
     "metadata": {},
     "output_type": "execute_result"
    },
    {
     "data": {
      "image/png": "[encoded data removed]",
      "text/plain": [
       "<Figure size 432x288 with 1 Axes>"
      ]
     },
     "metadata": {
      "needs_background": "light"
     },
     "output_type": "display_data"
    }
   ],
   "source": [
    "log_ac_vals, JSD_vals = np.loadtxt('test_log_ac.txt', unpack=True)\n",
    "\n",
    "\n",
    "plt.scatter(log_ac_vals, JSD_vals)\n",
    "plt.xlabel('log10_ac')\n",
    "plt.ylabel('JSD')\n"
   ]
  },
  {
   "cell_type": "code",
   "execution_count": 49,
   "id": "subjective-japanese",
   "metadata": {},
   "outputs": [
    {
     "name": "stdout",
     "output_type": "stream",
     "text": [
      "[0.00250673 0.00250673 0.00265492 0.00241021 0.00235495 0.00238144\n",
      " 0.00238144 0.00220684 0.00207495 0.00239069 0.00248927 0.00251639\n",
      " 0.00251373 0.00236478 0.00221373 0.00247289 0.00246334 0.00231639\n",
      " 0.00231639 0.00253739 0.00249517 0.00258713 0.0026008  0.00238375\n",
      " 0.00249749 0.00241427 0.00241427 0.00241427 0.00257534 0.00246392\n",
      " 0.00247675 0.00259281 0.0023203  0.00179725 0.00178724 0.00181224\n",
      " 0.00177896 0.00178791 0.00178791 0.00180835 0.00180848 0.00172389\n",
      " 0.00178149 0.00176192 0.00173148 0.00173148 0.00176504 0.00180256\n",
      " 0.00171751 0.00173251 0.00196511 0.00179898 0.00197277 0.00179585\n",
      " 0.00169837 0.00169837 0.00177406 0.00178519 0.00171099 0.00193737\n",
      " 0.00180275 0.00180275 0.00176753 0.00168425 0.0017295  0.0017295\n",
      " 0.00168179 0.00177055 0.00172115 0.00165112 0.0016851  0.00174435\n",
      " 0.00171007 0.00174705 0.00179664 0.00177822 0.00178925 0.0016668\n",
      " 0.00179743 0.00179743 0.00179743 0.00167758 0.00172462 0.00172462\n",
      " 0.00171885 0.00176459 0.00178328 0.00179721 0.00168973 0.00175184\n",
      " 0.0019636  0.00199225 0.00197318 0.00208745]\n"
     ]
    }
   ],
   "source": [
    "print(JSD_vals)"
   ]
  },
  {
   "cell_type": "code",
   "execution_count": null,
   "id": "hired-cherry",
   "metadata": {},
   "outputs": [],
   "source": []
  },
  {
   "cell_type": "code",
   "execution_count": null,
   "id": "coordinate-gregory",
   "metadata": {},
   "outputs": [],
   "source": []
  }
 ],
 "metadata": {
  "kernelspec": {
   "display_name": "Python 3",
   "language": "python",
   "name": "python3"
  },
  "language_info": {
   "codemirror_mode": {
    "name": "ipython",
    "version": 3
   },
   "file_extension": ".py",
   "mimetype": "text/x-python",
   "name": "python",
   "nbconvert_exporter": "python",
   "pygments_lexer": "ipython3",
   "version": "3.9.2"
  }
 },
 "nbformat": 4,
 "nbformat_minor": 5
}
