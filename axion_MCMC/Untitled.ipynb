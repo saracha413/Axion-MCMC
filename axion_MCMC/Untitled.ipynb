{
 "cells": [
  {
   "cell_type": "code",
   "execution_count": 1,
   "id": "c5f3d393",
   "metadata": {},
   "outputs": [],
   "source": [
    "import numpy as np\n",
    "import numpy.random as rd\n",
    "import scipy.stats as st\n",
    "import copy, time, os\n",
    "from datetime import datetime as dt\n",
    "\n",
    "from multiprocessing import Pool\n",
    "\n",
    "%matplotlib inline\n",
    "import matplotlib.pyplot as plt"
   ]
  },
  {
   "cell_type": "code",
   "execution_count": null,
   "id": "fc5d6d90",
   "metadata": {},
   "outputs": [],
   "source": [
    "n_worker = 10\n",
    "\n",
    "pool = Pool(processes=n_worker)\n"
   ]
  },
  {
   "cell_type": "code",
   "execution_count": null,
   "id": "199f7941",
   "metadata": {},
   "outputs": [],
   "source": []
  },
  {
   "cell_type": "code",
   "execution_count": null,
   "id": "80913c77",
   "metadata": {},
   "outputs": [],
   "source": []
  },
  {
   "cell_type": "code",
   "execution_count": 5,
   "id": "e07fa3ad",
   "metadata": {},
   "outputs": [
    {
     "name": "stdout",
     "output_type": "stream",
     "text": [
      "0.12558531046383625\n",
      "0.20724287813818676\n",
      "0.05146720330082988\n",
      "0.44080984365063647\n",
      "0.029876210878566956\n"
     ]
    }
   ],
   "source": [
    "for i in range(5):\n",
    "\n",
    "    print(rd.uniform(0,1))"
   ]
  },
  {
   "cell_type": "code",
   "execution_count": null,
   "id": "d6a05af1",
   "metadata": {},
   "outputs": [],
   "source": []
  }
 ],
 "metadata": {
  "kernelspec": {
   "display_name": "Python 3",
   "language": "python",
   "name": "python3"
  },
  "language_info": {
   "codemirror_mode": {
    "name": "ipython",
    "version": 3
   },
   "file_extension": ".py",
   "mimetype": "text/x-python",
   "name": "python",
   "nbconvert_exporter": "python",
   "pygments_lexer": "ipython3",
   "version": "3.9.2"
  }
 },
 "nbformat": 4,
 "nbformat_minor": 5
}
