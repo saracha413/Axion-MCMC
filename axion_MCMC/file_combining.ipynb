{
 "cells": [
  {
   "cell_type": "code",
   "execution_count": 2,
   "id": "68fe00a3",
   "metadata": {},
   "outputs": [],
   "source": [
    "#a short script to combine files from MCMC results\n",
    "#don't forget to change path\n",
    "import numpy as np"
   ]
  },
  {
   "cell_type": "code",
   "execution_count": 3,
   "id": "f1282df5",
   "metadata": {},
   "outputs": [],
   "source": [
    "from os import listdir\n",
    "from os.path import isfile, join\n",
    "#find the files in directory\n",
    "#from https://stackoverflow.com/questions/3207219/how-do-i-list-all-files-of-a-directory\n",
    "path = '/Users/saravannah/Axion-MCMC/axion_MCMC/'\n",
    "files = [f for f in listdir(path) if isfile(join(path, f))]\n",
    "\n",
    "newFileName = path+'Sept-15-runs.txt'"
   ]
  },
  {
   "cell_type": "code",
   "execution_count": 4,
   "id": "3641b254",
   "metadata": {},
   "outputs": [],
   "source": [
    "for fileName in files:\n",
    "    with open(newFileName, 'a') as fileObject:\n",
    "        #there's got to be a more efficient way to do this...\n",
    "        if 'Sept-15' in fileName and fileName != 'vary_ac_fEDE_wCDM.txt':\n",
    "            log10_axion_ac, log10_fraction_axion_ac, omega_cdm, H0, Djs = np.loadtxt(path+fileName, unpack=True)\n",
    "            for i in range(len(log10_axion_ac)):\n",
    "                line = [log10_axion_ac[i], log10_fraction_axion_ac[i], omega_cdm[i], H0[i], Djs[i]]\n",
    "                line = [float(x) for x in line] #Python have trouble with type of data, recasting str to float\n",
    "                np.savetxt(fileObject, np.transpose(line),delimiter=',',newline = ' ')\n",
    "                fileObject.write('\\n')\n",
    "    fileObject.close()"
   ]
  },
  {
   "cell_type": "code",
   "execution_count": null,
   "id": "963a9892",
   "metadata": {},
   "outputs": [],
   "source": []
  }
 ],
 "metadata": {
  "kernelspec": {
   "display_name": "Python 3",
   "language": "python",
   "name": "python3"
  },
  "language_info": {
   "codemirror_mode": {
    "name": "ipython",
    "version": 3
   },
   "file_extension": ".py",
   "mimetype": "text/x-python",
   "name": "python",
   "nbconvert_exporter": "python",
   "pygments_lexer": "ipython3",
   "version": "3.9.2"
  }
 },
 "nbformat": 4,
 "nbformat_minor": 5
}
